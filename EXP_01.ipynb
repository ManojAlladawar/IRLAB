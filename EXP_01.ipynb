{
  "nbformat": 4,
  "nbformat_minor": 0,
  "metadata": {
    "colab": {
      "provenance": [],
      "collapsed_sections": []
    },
    "kernelspec": {
      "name": "python3",
      "display_name": "Python 3"
    },
    "language_info": {
      "name": "python"
    }
  },
  "cells": [
    {
      "cell_type": "markdown",
      "source": [
        "Name:Manoj Alladawar               ROll NO:19141256\n",
        "\n",
        "IR exp-1 Write a program to create an inverted index for a given text file "
      ],
      "metadata": {
        "id": "EkhuXDZytN05"
      }
    },
    {
      "cell_type": "code",
      "source": [
        "# this will open the file\n",
        "file = open('/content/drive/MyDrive/GCEK/text.txt' ,encoding='utf8')\n",
        "read = file.read()\n",
        "file.seek(0)\n",
        "read\n",
        "\n",
        "# to obtain the\n",
        "# number of lines\n",
        "# in file\n",
        "line = 1\n",
        "for word in read:\n",
        "\tif word == '\\n':\n",
        "\t\tline += 1\n",
        "print(\"Number of lines in file is: \", line)\n",
        "\n",
        "# create a list to\n",
        "# store each line as\n",
        "# an element of list\n",
        "array = []\n",
        "for i in range(line):\n",
        "\tarray.append(file.readline())\n",
        "\n",
        "array\n"
      ],
      "metadata": {
        "colab": {
          "base_uri": "https://localhost:8080/"
        },
        "id": "HWMgBdtapkEW",
        "outputId": "e8f271a7-b7ea-485f-e3db-08c5fc913b90"
      },
      "execution_count": 7,
      "outputs": [
        {
          "output_type": "stream",
          "name": "stdout",
          "text": [
            "Number of lines in file is:  5\n"
          ]
        },
        {
          "output_type": "execute_result",
          "data": {
            "text/plain": [
              "['Hii My name is Manoj Alladawar\\n',\n",
              " 'I am final Year student from GCEK\\n',\n",
              " 'I am selected in TCS DIGITAL for System Engineer role.\\n',\n",
              " 'I am also Selected in Redhat For Trainee Role.\\n',\n",
              " '']"
            ]
          },
          "metadata": {},
          "execution_count": 7
        }
      ]
    },
    {
      "cell_type": "code",
      "source": [
        "from google.colab import drive\n",
        "drive.mount('/content/drive')"
      ],
      "metadata": {
        "id": "lJVPqHY2IPID",
        "outputId": "ed9d4da6-49f5-42ff-c364-e5bbef59ace4",
        "colab": {
          "base_uri": "https://localhost:8080/"
        }
      },
      "execution_count": 8,
      "outputs": [
        {
          "output_type": "stream",
          "name": "stdout",
          "text": [
            "Drive already mounted at /content/drive; to attempt to forcibly remount, call drive.mount(\"/content/drive\", force_remount=True).\n"
          ]
        }
      ]
    },
    {
      "cell_type": "code",
      "source": [
        "punc = '''!()-[]{};:'\"\\, <>./?@#$%^&*_~'''\n",
        "for ele in read:\n",
        "\tif ele in punc:\n",
        "\t\tread = read.replace(ele, \" \")\n",
        "\t\t\n",
        "read\n",
        "\n",
        "# to maintain uniformity\n",
        "read=read.lower()\t\t\t\t\t\n",
        "read\n"
      ],
      "metadata": {
        "colab": {
          "base_uri": "https://localhost:8080/",
          "height": 53
        },
        "id": "AM5XGDZ0ryUU",
        "outputId": "9195731d-7df6-496c-d29e-deecdee322c8"
      },
      "execution_count": 9,
      "outputs": [
        {
          "output_type": "execute_result",
          "data": {
            "text/plain": [
              "'hii my name is manoj alladawar\\ni am final year student from gcek\\ni am selected in tcs digital for system engineer role \\ni am also selected in redhat for trainee role \\n'"
            ],
            "application/vnd.google.colaboratory.intrinsic+json": {
              "type": "string"
            }
          },
          "metadata": {},
          "execution_count": 9
        }
      ]
    },
    {
      "cell_type": "code",
      "source": [
        "import nltk"
      ],
      "metadata": {
        "id": "swext3vMl1CW"
      },
      "execution_count": 10,
      "outputs": []
    },
    {
      "cell_type": "code",
      "source": [
        "nltk.download('punkt')"
      ],
      "metadata": {
        "colab": {
          "base_uri": "https://localhost:8080/"
        },
        "id": "OQviK-CBl9pE",
        "outputId": "e6b1d392-269a-4288-91df-ae60aae42c94"
      },
      "execution_count": 11,
      "outputs": [
        {
          "output_type": "stream",
          "name": "stderr",
          "text": [
            "[nltk_data] Downloading package punkt to /root/nltk_data...\n",
            "[nltk_data]   Unzipping tokenizers/punkt.zip.\n"
          ]
        },
        {
          "output_type": "execute_result",
          "data": {
            "text/plain": [
              "True"
            ]
          },
          "metadata": {},
          "execution_count": 11
        }
      ]
    },
    {
      "cell_type": "code",
      "source": [
        "from nltk.tokenize import word_tokenize\n",
        "import nltk\n",
        "from nltk.corpus import stopwords\n",
        "nltk.download('stopwords')\n",
        "\n",
        "for i in range(1):\n",
        "\t# this will convert\n",
        "\t# the word into tokens\n",
        "\ttext_tokens = word_tokenize(read)\n",
        "\n",
        "tokens_without_sw = [\n",
        "\tword for word in text_tokens if not word in stopwords.words()]\n",
        "\n",
        "print(tokens_without_sw)\n"
      ],
      "metadata": {
        "colab": {
          "base_uri": "https://localhost:8080/"
        },
        "id": "cf5AupF3snYZ",
        "outputId": "ca40c679-f95b-44a5-9706-81f708cb5967"
      },
      "execution_count": 12,
      "outputs": [
        {
          "output_type": "stream",
          "name": "stderr",
          "text": [
            "[nltk_data] Downloading package stopwords to /root/nltk_data...\n",
            "[nltk_data]   Unzipping corpora/stopwords.zip.\n"
          ]
        },
        {
          "output_type": "stream",
          "name": "stdout",
          "text": [
            "['hii', 'manoj', 'alladawar', 'final', 'year', 'student', 'gcek', 'selected', 'tcs', 'digital', 'system', 'engineer', 'role', 'selected', 'redhat', 'trainee', 'role']\n"
          ]
        }
      ]
    },
    {
      "cell_type": "code",
      "source": [
        "dict = {}\n",
        "\n",
        "for i in range(line):\n",
        "\tcheck = array[i].lower()\n",
        "\tfor item in tokens_without_sw:\n",
        "\n",
        "\t\tif item in check:\n",
        "\t\t\tif item not in dict:\n",
        "\t\t\t\tdict[item] = []\n",
        "\n",
        "\t\t\tif item in dict:\n",
        "\t\t\t\tdict[item].append(i+1)\n",
        "\n",
        "dict\n"
      ],
      "metadata": {
        "colab": {
          "base_uri": "https://localhost:8080/"
        },
        "id": "lxCqMN2gmsou",
        "outputId": "c66fb85b-1d62-4712-e04e-66da28fcd789"
      },
      "execution_count": 13,
      "outputs": [
        {
          "output_type": "execute_result",
          "data": {
            "text/plain": [
              "{'hii': [1],\n",
              " 'manoj': [1],\n",
              " 'alladawar': [1],\n",
              " 'final': [2],\n",
              " 'year': [2],\n",
              " 'student': [2],\n",
              " 'gcek': [2],\n",
              " 'selected': [3, 3, 4, 4],\n",
              " 'tcs': [3],\n",
              " 'digital': [3],\n",
              " 'system': [3],\n",
              " 'engineer': [3],\n",
              " 'role': [3, 3, 4, 4],\n",
              " 'redhat': [4],\n",
              " 'trainee': [4]}"
            ]
          },
          "metadata": {},
          "execution_count": 13
        }
      ]
    },
    {
      "cell_type": "markdown",
      "source": [],
      "metadata": {
        "id": "FBY8-VYAtGg0"
      }
    }
  ]
}