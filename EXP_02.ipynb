{
  "nbformat": 4,
  "nbformat_minor": 0,
  "metadata": {
    "colab": {
      "provenance": [],
      "collapsed_sections": []
    },
    "kernelspec": {
      "name": "python3",
      "display_name": "Python 3"
    },
    "language_info": {
      "name": "python"
    }
  },
  "cells": [
    {
      "cell_type": "markdown",
      "source": [
        "Name:Manoj Alladawar ROll NO:19141256\n",
        " IR exp-02 Perform the experiment to demonstrate Lemmatization and Stemming on given text."
      ],
      "metadata": {
        "id": "3xZSOIBMx1qS"
      }
    },
    {
      "cell_type": "code",
      "source": [
        "# import these modules\n",
        "#For Lemmatization\n",
        "from nltk.stem import WordNetLemmatizer\n",
        "import nltk\n",
        "nltk.download('wordnet')\n",
        "nltk.download('omw-1.4')\n",
        "\n",
        "lemmatizer = WordNetLemmatizer()\n",
        "print(\"Manoj Alladawar\" )\n",
        "print(\"rocks :\", lemmatizer.lemmatize(\"Alladawar\"))\n",
        "print(\"corpora :\", lemmatizer.lemmatize(\"Manoj\"))\n",
        "\n",
        "# a denotes adjective in \"pos\"\n",
        "print(\"better :\", lemmatizer.lemmatize(\"better\", pos=\"a\"))\n",
        "# For Stemming\n",
        "# import these modules\n",
        "from nltk.stem import PorterStemmer\n",
        "from nltk.tokenize import word_tokenize\n",
        "\n",
        "ps = PorterStemmer()\n",
        "\n",
        "# choose some words to be stemmed\n",
        "words = [\"game\", \"games\", \"gameing\", \"gamers\"]\n",
        "\n",
        "for w in words:\n",
        "    print(w, \" : \", ps.stem(w))\n",
        "\n"
      ],
      "metadata": {
        "colab": {
          "base_uri": "https://localhost:8080/"
        },
        "id": "ulAVvsdZxFmP",
        "outputId": "4653a9c2-77d8-40b8-bade-311b459587f0"
      },
      "execution_count": 2,
      "outputs": [
        {
          "output_type": "stream",
          "name": "stdout",
          "text": [
            "Manoj Alladawar\n",
            "rocks : Alladawar\n",
            "corpora : Manoj\n",
            "better : good\n",
            "game  :  game\n",
            "games  :  game\n",
            "gameing  :  game\n",
            "gamers  :  gamer\n"
          ]
        },
        {
          "output_type": "stream",
          "name": "stderr",
          "text": [
            "[nltk_data] Downloading package wordnet to /root/nltk_data...\n",
            "[nltk_data]   Package wordnet is already up-to-date!\n",
            "[nltk_data] Downloading package omw-1.4 to /root/nltk_data...\n",
            "[nltk_data]   Package omw-1.4 is already up-to-date!\n"
          ]
        }
      ]
    }
  ]
}