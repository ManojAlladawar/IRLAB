{
  "nbformat": 4,
  "nbformat_minor": 0,
  "metadata": {
    "colab": {
      "provenance": [],
      "collapsed_sections": []
    },
    "kernelspec": {
      "name": "python3",
      "display_name": "Python 3"
    },
    "language_info": {
      "name": "python"
    }
  },
  "cells": [
    {
      "cell_type": "markdown",
      "source": [
        "\n",
        "Name:Suraj Gude ROll NO:19141246 IR exp-04 Write a program to Perform data pre-processing tasks on suitable data sets."
      ],
      "metadata": {
        "id": "_E0iJzUxv5R-"
      }
    },
    {
      "cell_type": "code",
      "execution_count": 2,
      "metadata": {
        "colab": {
          "base_uri": "https://localhost:8080/"
        },
        "id": "aNF4DqZxu0_V",
        "outputId": "37a0e096-cef2-4979-d571-8a607929adae"
      },
      "outputs": [
        {
          "output_type": "stream",
          "name": "stdout",
          "text": [
            "My name is Manoj Alladawar I was Born on 29 June 2001 \n",
            "My name is Manoj Alladawar I was Born on  June  \n",
            "My name is Manoj Alladawar I was Born on twenty-nine June two thousand and one\n"
          ]
        }
      ],
      "source": [
        "\n",
        "# import the necessary libraries\n",
        "import nltk\n",
        "import string\n",
        "import re\n",
        "\n",
        "\n",
        "def text_lowercase(text):\n",
        "    return text.lower()\n",
        "\n",
        "\n",
        "input_str = \"My name is Manoj Alladawar I was Born on 29 June 2001 \"\n",
        "text_lowercase(input_str)\n",
        "print(input_str)\n",
        "\n",
        "\n",
        "def remove_numbers(text):\n",
        "    result = re.sub(r'\\d+', '', text)\n",
        "    return result\n",
        "\n",
        "print(remove_numbers(input_str))\n",
        "\n",
        "import inflect\n",
        "\n",
        "p = inflect.engine()\n",
        "\n",
        "\n",
        "# convert number into words\n",
        "def convert_number(text):\n",
        "    # split string into list of words\n",
        "    temp_str = text.split()\n",
        "    # initialise empty list\n",
        "    new_string = []\n",
        "\n",
        "    for word in temp_str:\n",
        "        # if word is a digit, convert the digit\n",
        "        # to numbers and append into the new_string list\n",
        "        if word.isdigit():\n",
        "            temp = p.number_to_words(word)\n",
        "            new_string.append(temp)\n",
        "\n",
        "        # append the word as it is\n",
        "        else:\n",
        "            new_string.append(word)\n",
        "\n",
        "    # join the words of new_string to form a string\n",
        "    temp_str = ' '.join(new_string)\n",
        "    return temp_str\n",
        "\n",
        "\n",
        "\n",
        "print(convert_number(input_str))\n",
        "\n"
      ]
    }
  ]
}